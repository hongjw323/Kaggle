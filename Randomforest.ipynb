{
 "cells": [
  {
   "cell_type": "code",
   "execution_count": 13,
   "metadata": {},
   "outputs": [],
   "source": [
    "import numpy as np\n",
    "import matplotlib.pyplot as plt\n",
    "\n",
    "from sklearn import datasets\n",
    "from sklearn.model_selection import train_test_split\n",
    "from sklearn.metrics import recall_score\n",
    "from sklearn.metrics import precision_score\n",
    "from sklearn.metrics import f1_score\n",
    "from sklearn.metrics import confusion_matrix\n",
    "from sklearn.ensemble import RandomForestClassifier"
   ]
  },
  {
   "cell_type": "code",
   "execution_count": 17,
   "metadata": {},
   "outputs": [
    {
     "name": "stdout",
     "output_type": "stream",
     "text": [
      "[*] Start : RandomForest Classification\n",
      "Training Length :  19098 Test Length :  12732\n",
      "train_accuracy : 0.951094355429888\n",
      "\n",
      "\n",
      "test_accuracy : 0.9409362236883443\n",
      "\n",
      "\n",
      "[[6150   96]\n",
      " [ 656 5830]]\n"
     ]
    }
   ],
   "source": [
    "import numpy as np\n",
    "import matplotlib.pyplot as plt\n",
    "import pickle\n",
    "\n",
    "from sklearn import datasets\n",
    "from sklearn.model_selection import train_test_split\n",
    "from sklearn.metrics import recall_score\n",
    "from sklearn.metrics import precision_score\n",
    "from sklearn.metrics import f1_score\n",
    "from sklearn.metrics import confusion_matrix\n",
    "from sklearn.ensemble import RandomForestClassifier\n",
    "from keras import models\n",
    "\n",
    "\n",
    "# data preprocessing\n",
    "print(\"[*] Start : RandomForest Classification\")\n",
    "\n",
    "datasets = np.loadtxt('test2-2.csv', delimiter=',',skiprows=1)\n",
    "xy_data = datasets   # exclude header\n",
    "train_set, test_set = train_test_split(xy_data, test_size=0.4, random_state=123)   \n",
    "print('Training Length : ', len(train_set), 'Test Length : ', len(test_set))\n",
    "\n",
    "x_train_data = train_set[:,1:]\n",
    "y_train_data = train_set[:,:1].reshape(-1,)\n",
    "\n",
    "# 8 x 8\n",
    "x_test_data = test_set[:,1:]\n",
    "y_test_data = test_set[:,:1].reshape(-1,)\n",
    "\n",
    "#print(\"[x_train_data]\",x_train_data.shape)\n",
    "#print(\"[y_train_data]\", y_train_data.shape)\n",
    "#print(\"[x_test_data]\", x_test_data.shape)\n",
    "#print(\"[y_test_data]\", y_test_data.shape)\n",
    "\n",
    "rf = RandomForestClassifier(n_estimators=80, random_state=123)\n",
    "rf.fit(x_train_data, y_train_data)\n",
    "\n",
    "print(\"train_accuracy :\",rf.score(x_train_data, y_train_data))\n",
    "print(\"\\n\")\n",
    "\n",
    "print(\"test_accuracy :\",rf.score(x_test_data, y_test_data))\n",
    "print(\"\\n\")\n",
    "y_pred = rf.predict(x_test_data)\n",
    "#print(y_pred)\n",
    "\n",
    "print(confusion_matrix(y_test_data, y_pred))\n",
    "\n",
    "\n",
    "\n",
    "#confusion matrix\n",
    "# TP : 1을 1이라고 하는 경우 \n",
    "# FN : 1을 0이라고 하는 경우 \n",
    "# FP : 0을 1이라고 하는 경우 \n",
    "# TN : 0을 0이라고 하는 경우 "
   ]
  },
  {
   "cell_type": "code",
   "execution_count": 2,
   "metadata": {},
   "outputs": [
    {
     "data": {
      "text/plain": [
       "['./1번 검증/1st_validation_model.pkl']"
      ]
     },
     "execution_count": 2,
     "metadata": {},
     "output_type": "execute_result"
    }
   ],
   "source": [
    "import joblib\n",
    "\n",
    "joblib.dump(rf, \"./1번 검증/1st_validation_model.pkl\")"
   ]
  }
 ],
 "metadata": {
  "kernelspec": {
   "display_name": "Python 3",
   "language": "python",
   "name": "python3"
  },
  "language_info": {
   "codemirror_mode": {
    "name": "ipython",
    "version": 3
   },
   "file_extension": ".py",
   "mimetype": "text/x-python",
   "name": "python",
   "nbconvert_exporter": "python",
   "pygments_lexer": "ipython3",
   "version": "3.6.10"
  }
 },
 "nbformat": 4,
 "nbformat_minor": 4
}
